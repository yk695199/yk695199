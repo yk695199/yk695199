{
 "cells": [
  {
   "cell_type": "code",
   "execution_count": 3,
   "id": "35cb4c43",
   "metadata": {},
   "outputs": [
    {
     "name": "stdout",
     "output_type": "stream",
     "text": [
      "<function <lambda> at 0x00000147FCDE5C18>\n"
     ]
    }
   ],
   "source": [
    "# 匿名函数  定义：函数没有名字，用 lambda 关键字进行定义的\n",
    "# 优点：对代码进行简化，增加运行效率， 特点：只适用于简单的操作，返回值不加上return \n",
    "# 普通函数\n",
    "# def func(a,b,c):\n",
    "#     return a+b+c\n",
    "# print(func(1,2,3))\n",
    "\n",
    "# 匿名函数的创建和调用\n",
    "# a,b,c: 形式参数\n",
    "# 1,2,3： 实际参数\n",
    "result = (lambda a,b,c: a+b+c)(1,2,3)\n",
    "print(result)"
   ]
  },
  {
   "cell_type": "code",
   "execution_count": null,
   "id": "8d07c59e",
   "metadata": {},
   "outputs": [],
   "source": [
    "# 面向对象： 是一种程序设计的思想，将对象作为程序的基本单元\n",
    "# 面向过程：就是一系列的函数，将这些功能组合在一起\n",
    "\n",
    "# 注意：在python中，所有的数据类型都可以视为对象\n",
    "\n",
    "# 面向对象中的类和对象\n",
    "# 类：一类事物， 是一个概念  植物 水果等等  \n",
    "# 对象：在一类事物中具体到某一个东西（细化）  水杉，向日葵， 苹果，香蕉等等\n",
    "# 对象可以有属性和方法（功能）    Dog: 属性 大小，品种，颜色，毛发等等  方法：吃 跑 叫 卖萌等等\n",
    "# 类和对象的关系：一个类中有多个对象  一对多关系\n",
    "# 面向对象的三大特征：封装、继承和多态\n",
    "\n",
    "# 下节课安排：面向对象 + 文件操作（异常，模块导入等等）\n"
   ]
  }
 ],
 "metadata": {
  "kernelspec": {
   "display_name": "Python 3 (ipykernel)",
   "language": "python",
   "name": "python3"
  },
  "language_info": {
   "codemirror_mode": {
    "name": "ipython",
    "version": 3
   },
   "file_extension": ".py",
   "mimetype": "text/x-python",
   "name": "python",
   "nbconvert_exporter": "python",
   "pygments_lexer": "ipython3",
   "version": "3.7.11"
  }
 },
 "nbformat": 4,
 "nbformat_minor": 5
}
